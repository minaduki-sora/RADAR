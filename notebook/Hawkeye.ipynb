{
 "cells": [
  {
   "cell_type": "code",
   "execution_count": 10,
   "id": "886b91bb",
   "metadata": {},
   "outputs": [],
   "source": [
    "import torch\n",
    "import torch.nn as nn\n",
    "import torch.optim as optim\n",
    "from torch.utils.data import DataLoader\n",
    "from datasets import load_dataset\n",
    "import json\n",
    "from tqdm import tqdm\n",
    "import matplotlib.pyplot as plt\n",
    "import os\n",
    "os.environ[\"CUDA_VISIBLE_DEVICES\"] = \"1\""
   ]
  },
  {
   "cell_type": "code",
   "execution_count": 11,
   "id": "04f85b0f",
   "metadata": {},
   "outputs": [],
   "source": [
    "with open(\"../configs/config.json\", \"r\") as f:\n",
    "    config = json.load(f)\n",
    "\n",
    "input_dim = config[\"input_dim\"]\n",
    "num_classes = config[\"num_classes\"]\n",
    "train_batch_size = config[\"train_batch_size\"]\n",
    "eval_batch_size = config.get(\"eval_batch_size\", train_batch_size)\n",
    "epochs = config[\"epochs\"]\n",
    "learning_rate = config[\"learning_rate\"]\n",
    "dataset_path = config[\"dataset_path\"]\n",
    "save_model_path = config[\"save_model_path\"]"
   ]
  },
  {
   "cell_type": "code",
   "execution_count": 12,
   "id": "16da70cc",
   "metadata": {},
   "outputs": [],
   "source": [
    "class Hawkeye(nn.Module):\n",
    "    def __init__(self, input_dim=4, num_classes=15):\n",
    "        super().__init__()\n",
    "        self.classifier = nn.Sequential(\n",
    "            nn.Linear(input_dim, 128),\n",
    "            nn.ReLU(),\n",
    "            nn.Dropout(0.2),\n",
    "            nn.Linear(128, 128),\n",
    "            nn.ReLU(),\n",
    "            nn.Dropout(0.2),\n",
    "            nn.Linear(128, 64),\n",
    "            nn.ReLU(),\n",
    "            nn.Dropout(0.2),\n",
    "            nn.Linear(64, num_classes)\n",
    "        )\n",
    "    \n",
    "    def forward(self, x):\n",
    "        x = self.classifier(x)\n",
    "        return x\n",
    "\n",
    "class HawkeyeRegression(nn.Module):\n",
    "    def __init__(self, input_dim=4, hidden_dim=64, num_blocks=3, dropout=0.2):\n",
    "        super().__init__()\n",
    "        self.input_layer = nn.Sequential(\n",
    "            nn.Linear(input_dim, hidden_dim),\n",
    "            nn.BatchNorm1d(hidden_dim),\n",
    "            nn.ReLU(),\n",
    "            nn.Dropout(dropout)\n",
    "        )\n",
    "        blocks = []\n",
    "        for _ in range(num_blocks):\n",
    "            blocks.append(nn.Sequential(\n",
    "                nn.Linear(hidden_dim, hidden_dim),\n",
    "                nn.BatchNorm1d(hidden_dim),\n",
    "                nn.ReLU(),\n",
    "                nn.Dropout(dropout)\n",
    "            ))\n",
    "        self.blocks = nn.Sequential(*blocks)\n",
    "        self.output_layer = nn.Linear(hidden_dim, 1)  # 输出为单个连续值\n",
    "\n",
    "    def forward(self, x):\n",
    "        x = self.input_layer(x)\n",
    "        x = self.blocks(x)\n",
    "        x = self.output_layer(x)\n",
    "        return x.squeeze(-1)  # shape: [batch]，去除最后一维"
   ]
  },
  {
   "cell_type": "code",
   "execution_count": 13,
   "id": "d46c8437",
   "metadata": {},
   "outputs": [],
   "source": [
    "def train(model, dataloader, optimizer, criterion, device):\n",
    "    model.train()\n",
    "    total_loss, total_correct, total = 0, 0, 0\n",
    "    for batch in tqdm(dataloader, desc=\"Train\", leave=False):\n",
    "        features = batch[\"features\"].to(device)\n",
    "        labels = batch[\"accept_length\"].to(device)\n",
    "        optimizer.zero_grad()\n",
    "        indices = [14,15,17,18]\n",
    "        logits = model(features[:,indices])                        \n",
    "        loss = criterion(logits, labels.float())\n",
    "        loss.backward()\n",
    "        optimizer.step()\n",
    "        total_loss += loss.item() * labels.size(0)\n",
    "        pred = torch.round(logits)#logits.argmax(dim=1)\n",
    "        total_correct += (pred == labels).sum().item()\n",
    "        total += labels.size(0)\n",
    "    avg_loss = total_loss / total\n",
    "    acc = total_correct / total\n",
    "    return avg_loss, acc\n",
    "\n",
    "def evaluate(model, dataloader, criterion, device):\n",
    "    model.eval()\n",
    "    total_loss, total_correct, total = 0, 0, 0\n",
    "    with torch.no_grad():\n",
    "        for batch in tqdm(dataloader, desc=\"Eval\", leave=False):\n",
    "            indices = [14,15,17,18]\n",
    "            features = batch[\"features\"].to(device)     \n",
    "            labels = batch[\"accept_length\"].to(device)\n",
    "            logits = model(features[:,indices])              \n",
    "            loss = criterion(logits, labels.float())\n",
    "            total_loss += loss.item() * labels.size(0)\n",
    "            pred = torch.round(logits)#logits.argmax(dim=1)\n",
    "            total_correct += (pred == labels).sum().item()\n",
    "            total += labels.size(0)\n",
    "    avg_loss = total_loss / total\n",
    "    acc = total_correct / total\n",
    "    return avg_loss, acc"
   ]
  },
  {
   "cell_type": "code",
   "execution_count": 14,
   "id": "f75d1bfa",
   "metadata": {},
   "outputs": [],
   "source": [
    "from datasets import load_from_disk\n",
    "\n",
    "dataset = load_from_disk(dataset_path)"
   ]
  },
  {
   "cell_type": "code",
   "execution_count": 15,
   "id": "14445413",
   "metadata": {},
   "outputs": [],
   "source": [
    "# dataset = dataset.remove_columns([\n",
    "#     \"last_hidden_state\", \"all_hidden_state\", \"egale_1st_forward_hidden\", \"eagle_input\", \"last_logit\", \"egale_1st_forward_logit\"\n",
    "# ])\n",
    "\n",
    "# dataset.set_format(type=\"torch\", columns=[\"features\", \"accept_length\"])\n",
    "\n",
    "dataset.set_format(type=\"torch\", columns=[\"features\", \"accept_length\"])\n",
    "\n",
    "train_set = dataset[\"train\"]\n",
    "test_set = dataset[\"test\"]\n",
    "train_loader = DataLoader(train_set, batch_size=train_batch_size, shuffle=True, num_workers=2)\n",
    "test_loader = DataLoader(test_set, batch_size=eval_batch_size, shuffle=False, num_workers=2)\n"
   ]
  },
  {
   "cell_type": "code",
   "execution_count": 16,
   "id": "aa829b20",
   "metadata": {},
   "outputs": [
    {
     "data": {
      "text/plain": [
       "DatasetDict({\n",
       "    train: Dataset({\n",
       "        features: ['features', 'accept_length'],\n",
       "        num_rows: 6402\n",
       "    })\n",
       "    test: Dataset({\n",
       "        features: ['features', 'accept_length'],\n",
       "        num_rows: 1601\n",
       "    })\n",
       "})"
      ]
     },
     "execution_count": 16,
     "metadata": {},
     "output_type": "execute_result"
    }
   ],
   "source": [
    "dataset"
   ]
  },
  {
   "cell_type": "code",
   "execution_count": 17,
   "id": "a1ce094e",
   "metadata": {},
   "outputs": [],
   "source": [
    "device = torch.device(\"cuda\" if torch.cuda.is_available() else \"cpu\")\n",
    "model = HawkeyeRegression(input_dim=input_dim).to(device)\n",
    "criterion = nn.MSELoss()\n",
    "optimizer = optim.AdamW(model.parameters(), lr=learning_rate, weight_decay=1e-4)"
   ]
  },
  {
   "cell_type": "code",
   "execution_count": 18,
   "id": "fdc37590",
   "metadata": {},
   "outputs": [
    {
     "name": "stderr",
     "output_type": "stream",
     "text": [
      "                                                        \r"
     ]
    },
    {
     "name": "stdout",
     "output_type": "stream",
     "text": [
      "Epoch 1 | Train Loss: 43.0881 Acc: 0.0373 | Test Loss: 43.3777 Acc: 0.0231\n"
     ]
    },
    {
     "name": "stderr",
     "output_type": "stream",
     "text": [
      "                                                        \r"
     ]
    },
    {
     "name": "stdout",
     "output_type": "stream",
     "text": [
      "Epoch 2 | Train Loss: 38.7633 Acc: 0.0472 | Test Loss: 40.0717 Acc: 0.0500\n"
     ]
    },
    {
     "name": "stderr",
     "output_type": "stream",
     "text": [
      "                                                        \r"
     ]
    },
    {
     "name": "stdout",
     "output_type": "stream",
     "text": [
      "Epoch 3 | Train Loss: 35.1255 Acc: 0.0606 | Test Loss: 32.8812 Acc: 0.0500\n"
     ]
    },
    {
     "name": "stderr",
     "output_type": "stream",
     "text": [
      "                                                        \r"
     ]
    },
    {
     "name": "stdout",
     "output_type": "stream",
     "text": [
      "Epoch 4 | Train Loss: 31.9157 Acc: 0.0681 | Test Loss: 32.9762 Acc: 0.0650\n"
     ]
    },
    {
     "name": "stderr",
     "output_type": "stream",
     "text": [
      "                                                        \r"
     ]
    },
    {
     "name": "stdout",
     "output_type": "stream",
     "text": [
      "Epoch 5 | Train Loss: 28.9035 Acc: 0.0787 | Test Loss: 29.5426 Acc: 0.0693\n"
     ]
    },
    {
     "name": "stderr",
     "output_type": "stream",
     "text": [
      "                                                        \r"
     ]
    },
    {
     "name": "stdout",
     "output_type": "stream",
     "text": [
      "Epoch 6 | Train Loss: 26.3693 Acc: 0.0901 | Test Loss: 28.4163 Acc: 0.0762\n"
     ]
    },
    {
     "name": "stderr",
     "output_type": "stream",
     "text": [
      "                                                        \r"
     ]
    },
    {
     "name": "stdout",
     "output_type": "stream",
     "text": [
      "Epoch 7 | Train Loss: 23.8695 Acc: 0.1014 | Test Loss: 26.8735 Acc: 0.0775\n"
     ]
    },
    {
     "name": "stderr",
     "output_type": "stream",
     "text": [
      "                                                        \r"
     ]
    },
    {
     "name": "stdout",
     "output_type": "stream",
     "text": [
      "Epoch 8 | Train Loss: 21.4793 Acc: 0.1059 | Test Loss: 21.7385 Acc: 0.1112\n"
     ]
    },
    {
     "name": "stderr",
     "output_type": "stream",
     "text": [
      "                                                        \r"
     ]
    },
    {
     "name": "stdout",
     "output_type": "stream",
     "text": [
      "Epoch 9 | Train Loss: 19.5980 Acc: 0.1134 | Test Loss: 20.5359 Acc: 0.1143\n"
     ]
    },
    {
     "name": "stderr",
     "output_type": "stream",
     "text": [
      "                                                        \r"
     ]
    },
    {
     "name": "stdout",
     "output_type": "stream",
     "text": [
      "Epoch 10 | Train Loss: 17.9905 Acc: 0.1181 | Test Loss: 19.8771 Acc: 0.1305\n"
     ]
    },
    {
     "name": "stderr",
     "output_type": "stream",
     "text": [
      "                                                        \r"
     ]
    },
    {
     "name": "stdout",
     "output_type": "stream",
     "text": [
      "Epoch 11 | Train Loss: 16.5555 Acc: 0.1242 | Test Loss: 17.7773 Acc: 0.1318\n"
     ]
    },
    {
     "name": "stderr",
     "output_type": "stream",
     "text": [
      "                                                        \r"
     ]
    },
    {
     "name": "stdout",
     "output_type": "stream",
     "text": [
      "Epoch 12 | Train Loss: 15.4392 Acc: 0.1215 | Test Loss: 16.3202 Acc: 0.1324\n"
     ]
    },
    {
     "name": "stderr",
     "output_type": "stream",
     "text": [
      "                                                        \r"
     ]
    },
    {
     "name": "stdout",
     "output_type": "stream",
     "text": [
      "Epoch 13 | Train Loss: 14.3281 Acc: 0.1139 | Test Loss: 14.6226 Acc: 0.1274\n"
     ]
    },
    {
     "name": "stderr",
     "output_type": "stream",
     "text": [
      "                                                        \r"
     ]
    },
    {
     "name": "stdout",
     "output_type": "stream",
     "text": [
      "Epoch 14 | Train Loss: 13.6569 Acc: 0.1164 | Test Loss: 14.5047 Acc: 0.1187\n"
     ]
    },
    {
     "name": "stderr",
     "output_type": "stream",
     "text": [
      "                                                        \r"
     ]
    },
    {
     "name": "stdout",
     "output_type": "stream",
     "text": [
      "Epoch 15 | Train Loss: 13.0055 Acc: 0.1182 | Test Loss: 13.3805 Acc: 0.1087\n"
     ]
    },
    {
     "name": "stderr",
     "output_type": "stream",
     "text": [
      "                                                        \r"
     ]
    },
    {
     "name": "stdout",
     "output_type": "stream",
     "text": [
      "Epoch 16 | Train Loss: 12.4831 Acc: 0.1098 | Test Loss: 13.4879 Acc: 0.1099\n"
     ]
    },
    {
     "name": "stderr",
     "output_type": "stream",
     "text": [
      "                                                        \r"
     ]
    },
    {
     "name": "stdout",
     "output_type": "stream",
     "text": [
      "Epoch 17 | Train Loss: 12.2389 Acc: 0.1081 | Test Loss: 13.2309 Acc: 0.1093\n"
     ]
    },
    {
     "name": "stderr",
     "output_type": "stream",
     "text": [
      "                                                        \r"
     ]
    },
    {
     "name": "stdout",
     "output_type": "stream",
     "text": [
      "Epoch 18 | Train Loss: 11.9733 Acc: 0.1118 | Test Loss: 12.3485 Acc: 0.1131\n"
     ]
    },
    {
     "name": "stderr",
     "output_type": "stream",
     "text": [
      "                                                        \r"
     ]
    },
    {
     "name": "stdout",
     "output_type": "stream",
     "text": [
      "Epoch 19 | Train Loss: 11.7840 Acc: 0.1051 | Test Loss: 11.7165 Acc: 0.1099\n"
     ]
    },
    {
     "name": "stderr",
     "output_type": "stream",
     "text": [
      "                                                        \r"
     ]
    },
    {
     "name": "stdout",
     "output_type": "stream",
     "text": [
      "Epoch 20 | Train Loss: 11.7465 Acc: 0.1043 | Test Loss: 12.1071 Acc: 0.1081\n",
      "Best Test Acc: 0.13241723922548407\n",
      "Best model saved to: ../../weights/hawkeye/mt-bench-llama3-d13-topk10-t0.pt\n"
     ]
    },
    {
     "data": {
      "image/png": "[encoded data removed]",
      "text/plain": [
       "<Figure size 1200x500 with 2 Axes>"
      ]
     },
     "metadata": {},
     "output_type": "display_data"
    }
   ],
   "source": [
    "best_acc = 0.0\n",
    "train_losses, train_accs, test_losses, test_accs = [], [], [], []\n",
    "\n",
    "for epoch in range(1, epochs + 1):\n",
    "    train_loss, train_acc = train(model, train_loader, optimizer, criterion, device)\n",
    "    test_loss, test_acc = evaluate(model, test_loader, criterion, device)\n",
    "    print(f\"Epoch {epoch} | Train Loss: {train_loss:.4f} Acc: {train_acc:.4f} | \"\n",
    "          f\"Test Loss: {test_loss:.4f} Acc: {test_acc:.4f}\")\n",
    "    # 记录\n",
    "    train_losses.append(train_loss)\n",
    "    train_accs.append(train_acc)\n",
    "    test_losses.append(test_loss)\n",
    "    test_accs.append(test_acc)\n",
    "    if test_acc > best_acc:\n",
    "        best_acc = test_acc\n",
    "        torch.save(model.state_dict(), save_model_path)  # 确认save_model_path为字符串\n",
    "print(\"Best Test Acc:\", best_acc)\n",
    "print(f\"Best model saved to: {save_model_path}\")\n",
    "\n",
    "# 绘制训练&验证曲线\n",
    "plt.figure(figsize=(12, 5))\n",
    "\n",
    "plt.subplot(1, 2, 1)\n",
    "plt.plot(range(1, epochs + 1), train_losses, label=\"Train Loss\")\n",
    "plt.plot(range(1, epochs + 1), test_losses, label=\"Test Loss\")\n",
    "plt.xlabel(\"Epoch\")\n",
    "plt.ylabel(\"Loss\")\n",
    "plt.legend()\n",
    "plt.title(\"Loss Curve\")\n",
    "\n",
    "plt.subplot(1, 2, 2)\n",
    "plt.plot(range(1, epochs + 1), train_accs, label=\"Train Acc\")\n",
    "plt.plot(range(1, epochs + 1), test_accs, label=\"Test Acc\")\n",
    "plt.xlabel(\"Epoch\")\n",
    "plt.ylabel(\"Accuracy\")\n",
    "plt.legend()\n",
    "plt.title(\"Accuracy Curve\")\n",
    "\n",
    "plt.tight_layout()\n",
    "plt.savefig(\"train_val_curve.png\")\n",
    "plt.show()"
   ]
  }
 ],
 "metadata": {
  "kernelspec": {
   "display_name": "Python 3",
   "language": "python",
   "name": "python3"
  },
  "language_info": {
   "codemirror_mode": {
    "name": "ipython",
    "version": 3
   },
   "file_extension": ".py",
   "mimetype": "text/x-python",
   "name": "python",
   "nbconvert_exporter": "python",
   "pygments_lexer": "ipython3",
   "version": "3.9.21"
  }
 },
 "nbformat": 4,
 "nbformat_minor": 5
}
