{
 "cells": [
  {
   "cell_type": "code",
   "execution_count": null,
   "id": "6c0a0b54",
   "metadata": {},
   "outputs": [],
   "source": [
    "import json\n",
    "import numpy as np\n",
    "\n",
    "def process_rate(json_eagen, json_eaforward, maxlen=7, eye_time=0.0004):\n",
    "    eagen_data = []\n",
    "    with open(json_eagen, 'r', encoding='utf-8') as file:\n",
    "        for line in file:\n",
    "            json_obj = json.loads(line)\n",
    "            eagen_data.append(json_obj)\n",
    "\n",
    "    eagen_time = []\n",
    "    for datapoint in eagen_data:\n",
    "        choices = datapoint[\"choices\"]\n",
    "        eagen_time.extend(choices)\n",
    "\n",
    "\n",
    "    eaforward_data = []\n",
    "    with open(json_eaforward, 'r', encoding='utf-8') as file:\n",
    "        for line in file:\n",
    "            json_obj = json.loads(line)\n",
    "            eaforward_data.append(json_obj)\n",
    "\n",
    "    eaforward_time = []\n",
    "    for datapoint in eaforward_data:\n",
    "        choices = datapoint[\"choices\"]\n",
    "        for ch in choices:\n",
    "            eaforward_time.extend(ch)\n",
    "\n",
    "    avg_eagen_time = np.mean(eagen_time)\n",
    "    avg_eaforward_time = np.mean(eaforward_time)\n",
    "\n",
    "    eagen_minus_time = avg_eagen_time - avg_eaforward_time * maxlen\n",
    "    rate = eagen_minus_time / (avg_eaforward_time + eye_time)\n",
    "    beta = avg_eaforward_time + eye_time\n",
    "    # minus = eye_time / (avg_eaforward_time + eye_time)\n",
    "\n",
    "    return avg_eagen_time, eagen_minus_time, avg_eaforward_time, rate, beta"
   ]
  },
  {
   "cell_type": "code",
   "execution_count": 2,
   "id": "059ad6e5",
   "metadata": {},
   "outputs": [
    {
     "data": {
      "text/plain": [
       "(0.0894602474881642,\n",
       " 0.07067478482821618,\n",
       " 0.002683637522849716,\n",
       " 22.919290709273348,\n",
       " 0.0030836375228497164)"
      ]
     },
     "execution_count": 2,
     "metadata": {},
     "output_type": "execute_result"
    }
   ],
   "source": [
    "# llama3.1\n",
    "process_rate(\n",
    "    json_eagen = \"../output/time/llama3-d7-t1-rb-eagen.jsonl\",\n",
    "    json_eaforward = \"../output/time/llama3-d7-t1-rb-eaforward.jsonl\",\n",
    "    maxlen=7,\n",
    "    eye_time=0.0004\n",
    ")"
   ]
  },
  {
   "cell_type": "code",
   "execution_count": 3,
   "id": "48d41bce",
   "metadata": {},
   "outputs": [
    {
     "data": {
      "text/plain": [
       "(0.0928294254561602,\n",
       " 0.07549169912176616,\n",
       " 0.0024768180477705765,\n",
       " 26.241388182429308,\n",
       " 0.0028768180477705767)"
      ]
     },
     "execution_count": 3,
     "metadata": {},
     "output_type": "execute_result"
    }
   ],
   "source": [
    "# vicuna13\n",
    "process_rate(\n",
    "    json_eagen = \"../output/time/vicuna-d7-t1-rb-eagen.jsonl\",\n",
    "    json_eaforward = \"../output/time/vicuna-d7-t1-rb-eaforward.jsonl\",\n",
    "    maxlen=7,\n",
    "    eye_time=0.0004\n",
    ")"
   ]
  },
  {
   "cell_type": "code",
   "execution_count": 4,
   "id": "dabe5ac7",
   "metadata": {},
   "outputs": [
    {
     "data": {
      "text/plain": [
       "(0.08929556745222245,\n",
       " 0.06962772253401933,\n",
       " 0.0028096921311718728,\n",
       " 21.69295985051312,\n",
       " 0.003209692131171873)"
      ]
     },
     "execution_count": 4,
     "metadata": {},
     "output_type": "execute_result"
    }
   ],
   "source": [
    "#ds\n",
    "process_rate(\n",
    "    json_eagen = \"../output/time/ds-d7-t1-rb-eagen.jsonl\",\n",
    "    json_eaforward = \"../output/time/ds-d7-t1-rb-eaforward.jsonl\",\n",
    "    maxlen=7,\n",
    "    eye_time=0.0004\n",
    ")"
   ]
  },
  {
   "cell_type": "code",
   "execution_count": 3,
   "id": "ab914e04",
   "metadata": {},
   "outputs": [
    {
     "data": {
      "text/plain": [
       "(0.09154615428524754,\n",
       " 0.07168560849107844,\n",
       " 0.002837220827738444,\n",
       " 22.14418240387967,\n",
       " 0.003237220827738444)"
      ]
     },
     "execution_count": 3,
     "metadata": {},
     "output_type": "execute_result"
    }
   ],
   "source": [
    "#ds\n",
    "process_rate(\n",
    "    json_eagen = \"../output/time/ds-d7-t1-rb-eagen.jsonl\",\n",
    "    json_eaforward = \"../output/time/ds-d7-t1-rb-eaforward.jsonl\",\n",
    "    maxlen=7,\n",
    "    eye_time=0.0004\n",
    ")"
   ]
  }
 ],
 "metadata": {
  "kernelspec": {
   "display_name": "eagle",
   "language": "python",
   "name": "python3"
  },
  "language_info": {
   "codemirror_mode": {
    "name": "ipython",
    "version": 3
   },
   "file_extension": ".py",
   "mimetype": "text/x-python",
   "name": "python",
   "nbconvert_exporter": "python",
   "pygments_lexer": "ipython3",
   "version": "3.9.21"
  }
 },
 "nbformat": 4,
 "nbformat_minor": 5
}
