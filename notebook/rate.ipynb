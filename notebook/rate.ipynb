{
 "cells": [
  {
   "cell_type": "code",
   "execution_count": null,
   "id": "6c0a0b54",
   "metadata": {},
   "outputs": [],
   "source": [
    "import json\n",
    "import numpy as np\n",
    "\n",
    "def process_rate(json_eagen, json_eaforward, maxlen=7, eye_time=0.0004):\n",
    "    eagen_data = []\n",
    "    with open(json_eagen, 'r', encoding='utf-8') as file:\n",
    "        for line in file:\n",
    "            json_obj = json.loads(line)\n",
    "            eagen_data.append(json_obj)\n",
    "\n",
    "    eagen_time = []\n",
    "    for datapoint in eagen_data:\n",
    "        choices = datapoint[\"choices\"]\n",
    "        eagen_time.extend(choices)\n",
    "\n",
    "\n",
    "    eaforward_data = []\n",
    "    with open(json_eaforward, 'r', encoding='utf-8') as file:\n",
    "        for line in file:\n",
    "            json_obj = json.loads(line)\n",
    "            eaforward_data.append(json_obj)\n",
    "\n",
    "    eaforward_time = []\n",
    "    for datapoint in eaforward_data:\n",
    "        choices = datapoint[\"choices\"]\n",
    "        for ch in choices:\n",
    "            eaforward_time.extend(ch)\n",
    "\n",
    "    avg_eagen_time = np.mean(eagen_time)\n",
    "    avg_eaforward_time = np.mean(eaforward_time)\n",
    "\n",
    "    eagen_minus_time = avg_eagen_time - avg_eaforward_time * maxlen\n",
    "    rate = eagen_minus_time / avg_eaforward_time\n",
    "\n",
    "    return avg_eagen_time, avg_eaforward_time"
   ]
  }
 ],
 "metadata": {
  "kernelspec": {
   "display_name": "eagle",
   "language": "python",
   "name": "python3"
  },
  "language_info": {
   "name": "python",
   "version": "3.9.21"
  }
 },
 "nbformat": 4,
 "nbformat_minor": 5
}
