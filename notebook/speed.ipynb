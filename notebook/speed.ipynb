{
 "cells": [
  {
   "cell_type": "code",
   "execution_count": 1,
   "id": "fcdc4528",
   "metadata": {},
   "outputs": [
    {
     "name": "stdout",
     "output_type": "stream",
     "text": [
      "speed 49.25111404751688\n",
      "speed0 51.926616681874314\n",
      "ratio 0.9484753137153387\n"
     ]
    }
   ],
   "source": [
    "import json\n",
    "from transformers import AutoTokenizer\n",
    "import numpy as np\n",
    "\n",
    "# tokenizer=AutoTokenizer.from_pretrained(\"/home/majunjie/code/weights/hf/Meta-Llama-3.1-8B-Instruct/\")\n",
    "# jsonl_file = \"/home/majunjie/code/EAGLE/output/mt-bench/llama3.1.jsonl\"\n",
    "# jsonl_file = \"/home/majunjie/code/EAGLE/output/mt-bench/llama3.1-d7.jsonl\"\n",
    "# jsonl_file_base = \"/home/majunjie/code/EAGLE/output/mt-bench/llama3.1-vanilla.jsonl\"\n",
    "jsonl_file = \"../output/shareGPT/llama3.1/t1d7/hawkeye-3-0.7-speedtest-s100.jsonl\"\n",
    "jsonl_file_base = \"../output/shareGPT/llama3.1/t1d7/eagle3-speedtest-s100.jsonl\"\n",
    "data = []\n",
    "with open(jsonl_file, 'r', encoding='utf-8') as file:\n",
    "    for line in file:\n",
    "        json_obj = json.loads(line)\n",
    "        data.append(json_obj)\n",
    "\n",
    "\n",
    "\n",
    "speeds=[]\n",
    "for datapoint in data:\n",
    "    qid=datapoint[\"question_id\"]\n",
    "    answer=datapoint[\"choices\"][0]['turns']\n",
    "    tokens=sum(datapoint[\"choices\"][0]['new_tokens'])\n",
    "    times = sum(datapoint[\"choices\"][0]['wall_time'])\n",
    "    speeds.append(tokens/times)\n",
    "\n",
    "\n",
    "data = []\n",
    "with open(jsonl_file_base, 'r', encoding='utf-8') as file:\n",
    "    for line in file:\n",
    "        json_obj = json.loads(line)\n",
    "        data.append(json_obj)\n",
    "\n",
    "\n",
    "# total_time=0\n",
    "# total_token=0\n",
    "speeds0=[]\n",
    "for datapoint in data:\n",
    "    qid=datapoint[\"question_id\"]\n",
    "    answer=datapoint[\"choices\"][0]['turns']\n",
    "    tokens=sum(datapoint[\"choices\"][0]['new_tokens'])\n",
    "    times = sum(datapoint[\"choices\"][0]['wall_time'])\n",
    "    speeds0.append(tokens/times)\n",
    "    # qid=datapoint[\"question_id\"]\n",
    "    # answer=datapoint[\"choices\"][0]['turns']\n",
    "    # tokens = 0\n",
    "    # for i in answer:\n",
    "    #     tokens += (len(tokenizer(i).input_ids) - 1)\n",
    "    # times = sum(datapoint[\"choices\"][0]['wall_time'])\n",
    "    # speeds0.append(tokens / times)\n",
    "    # total_time+=times\n",
    "    # total_token+=tokens\n",
    "\n",
    "\n",
    "\n",
    "print('speed',np.array(speeds).mean())\n",
    "print('speed0',np.array(speeds0).mean())\n",
    "print(\"ratio\",np.array(speeds).mean()/np.array(speeds0).mean())\n",
    "\n",
    "\n"
   ]
  },
  {
   "cell_type": "code",
   "execution_count": 8,
   "id": "d645d9bc",
   "metadata": {},
   "outputs": [
    {
     "name": "stdout",
     "output_type": "stream",
     "text": [
      "speed 52.03329977278623\n",
      "speed0 51.60096052080467\n",
      "ratio 1.0083785117102084\n"
     ]
    }
   ],
   "source": [
    "import json\n",
    "from transformers import AutoTokenizer\n",
    "import numpy as np\n",
    "\n",
    "# tokenizer=AutoTokenizer.from_pretrained(\"/home/majunjie/code/weights/hf/Meta-Llama-3.1-8B-Instruct/\")\n",
    "# jsonl_file = \"/home/majunjie/code/EAGLE/output/mt-bench/llama3.1.jsonl\"\n",
    "# jsonl_file = \"/home/majunjie/code/EAGLE/output/mt-bench/llama3.1-d7.jsonl\"\n",
    "# jsonl_file_base = \"/home/majunjie/code/EAGLE/output/mt-bench/llama3.1-vanilla.jsonl\"\n",
    "jsonl_file = \"../output/shareGPT/llama3.1/t1d7/hawkeye-37.5-0.004-1-0.99-speedtest-s100.jsonl\"\n",
    "jsonl_file_base = \"../output/shareGPT/llama3.1/t1d7/eagle3-speedtest-s100.jsonl\"\n",
    "data = []\n",
    "with open(jsonl_file, 'r', encoding='utf-8') as file:\n",
    "    for line in file:\n",
    "        json_obj = json.loads(line)\n",
    "        data.append(json_obj)\n",
    "\n",
    "\n",
    "\n",
    "speeds=[]\n",
    "for datapoint in data:\n",
    "    qid=datapoint[\"question_id\"]\n",
    "    answer=datapoint[\"choices\"][0]['turns']\n",
    "    tokens=sum(datapoint[\"choices\"][0]['new_tokens'])\n",
    "    times = sum(datapoint[\"choices\"][0]['wall_time'])\n",
    "    speeds.append(tokens/times)\n",
    "\n",
    "\n",
    "data = []\n",
    "with open(jsonl_file_base, 'r', encoding='utf-8') as file:\n",
    "    for line in file:\n",
    "        json_obj = json.loads(line)\n",
    "        data.append(json_obj)\n",
    "\n",
    "\n",
    "# total_time=0\n",
    "# total_token=0\n",
    "speeds0=[]\n",
    "for datapoint in data:\n",
    "    qid=datapoint[\"question_id\"]\n",
    "    answer=datapoint[\"choices\"][0]['turns']\n",
    "    tokens=sum(datapoint[\"choices\"][0]['new_tokens'])\n",
    "    times = sum(datapoint[\"choices\"][0]['wall_time'])\n",
    "    speeds0.append(tokens/times)\n",
    "    # qid=datapoint[\"question_id\"]\n",
    "    # answer=datapoint[\"choices\"][0]['turns']\n",
    "    # tokens = 0\n",
    "    # for i in answer:\n",
    "    #     tokens += (len(tokenizer(i).input_ids) - 1)\n",
    "    # times = sum(datapoint[\"choices\"][0]['wall_time'])\n",
    "    # speeds0.append(tokens / times)\n",
    "    # total_time+=times\n",
    "    # total_token+=tokens\n",
    "\n",
    "\n",
    "\n",
    "print('speed',np.array(speeds).mean())\n",
    "print('speed0',np.array(speeds0).mean())\n",
    "print(\"ratio\",np.array(speeds).mean()/np.array(speeds0).mean())\n",
    "\n",
    "\n"
   ]
  },
  {
   "cell_type": "code",
   "execution_count": 2,
   "id": "d4aa3122",
   "metadata": {},
   "outputs": [
    {
     "data": {
      "image/png": "[encoded data removed]",
      "text/plain": [
       "<Figure size 1000x600 with 1 Axes>"
      ]
     },
     "metadata": {},
     "output_type": "display_data"
    },
    {
     "name": "stdout",
     "output_type": "stream",
     "text": [
      "Forward time mean: 0.002010541945108639\n",
      "Forward time std: 2.394567712875313e-05\n",
      "Forward time max: 0.0028128623962402344\n",
      "Forward time min: 0.001962423324584961\n",
      "Forward time median: 0.0020079612731933594\n"
     ]
    }
   ],
   "source": [
    "import json\n",
    "import seaborn as sns\n",
    "import matplotlib.pyplot as plt\n",
    "import numpy as np\n",
    "\n",
    "jsonl_file = \"../output/shareGPT/llama3.1/t1d7/eagle3-forward-time.jsonl\"\n",
    "data = []\n",
    "with open(jsonl_file, 'r', encoding='utf-8') as file:\n",
    "    for line in file:\n",
    "        json_obj = json.loads(line)\n",
    "        data.append(json_obj)\n",
    "\n",
    "forward_times = []\n",
    "for datapoint in data:\n",
    "    for tl in datapoint[\"choices\"]:\n",
    "        forward_times.extend(tl)\n",
    "\n",
    "plt.figure(figsize=(10, 6))\n",
    "plt.title(\"Forward Time Distribution\")\n",
    "plt.xlabel(\"Forward Time (seconds)\")\n",
    "plt.ylabel(\"Frequency\")\n",
    "sns.histplot(forward_times, bins=1000)\n",
    "\n",
    "plt.show()\n",
    "\n",
    "print(\"Forward time mean:\", np.mean(forward_times))\n",
    "print(\"Forward time std:\", np.std(forward_times))\n",
    "print(\"Forward time max:\", np.max(forward_times))\n",
    "print(\"Forward time min:\", np.min(forward_times))\n",
    "print(\"Forward time median:\", np.median(forward_times))\n",
    "    "
   ]
  },
  {
   "cell_type": "code",
   "execution_count": 5,
   "id": "82cd506c",
   "metadata": {},
   "outputs": [
    {
     "data": {
      "image/png": "[encoded data removed]",
      "text/plain": [
       "<Figure size 1000x600 with 1 Axes>"
      ]
     },
     "metadata": {},
     "output_type": "display_data"
    },
    {
     "name": "stdout",
     "output_type": "stream",
     "text": [
      "Eagenerate time mean: 0.08974500562111017\n",
      "Eagenerate time std: 0.0007746877168179826\n",
      "Eagenerate time max: 0.09339761734008789\n",
      "Eagenerate time min: 0.08795738220214844\n",
      "Eagenerate time median: 0.0896143913269043\n"
     ]
    }
   ],
   "source": [
    "import json\n",
    "import seaborn as sns\n",
    "import matplotlib.pyplot as plt\n",
    "import numpy as np\n",
    "\n",
    "jsonl_file = \"../output/shareGPT/llama3.1/t1d7/eagle3-eagen-time.jsonl\"\n",
    "data = []\n",
    "with open(jsonl_file, 'r', encoding='utf-8') as file:\n",
    "    for line in file:\n",
    "        json_obj = json.loads(line)\n",
    "        data.append(json_obj)\n",
    "\n",
    "eagenerate_time = []\n",
    "for datapoint in data:\n",
    "    eagenerate_time.extend(datapoint[\"choices\"])\n",
    "\n",
    "plt.figure(figsize=(10, 6))\n",
    "plt.title(\"Eagenerate Time Distribution\")\n",
    "plt.xlabel(\"Eagenerate Time (seconds)\")\n",
    "plt.ylabel(\"Frequency\")\n",
    "sns.histplot(eagenerate_time, bins=100)\n",
    "\n",
    "plt.show()\n",
    "\n",
    "print(\"Eagenerate time mean:\", np.mean(eagenerate_time))\n",
    "print(\"Eagenerate time std:\", np.std(eagenerate_time))\n",
    "print(\"Eagenerate time max:\", np.max(eagenerate_time))\n",
    "print(\"Eagenerate time min:\", np.min(eagenerate_time))\n",
    "print(\"Eagenerate time median:\", np.median(eagenerate_time))\n",
    "    "
   ]
  },
  {
   "cell_type": "code",
   "execution_count": 6,
   "id": "9f42611a",
   "metadata": {},
   "outputs": [],
   "source": [
    "public_time = np.mean(eagenerate_time) - 7 * np.mean(forward_times)\n",
    "single_forward_time = np.mean(forward_times)"
   ]
  },
  {
   "cell_type": "code",
   "execution_count": 7,
   "id": "25ae5e8c",
   "metadata": {},
   "outputs": [
    {
     "data": {
      "text/plain": [
       "0.0756712120053497"
      ]
     },
     "execution_count": 7,
     "metadata": {},
     "output_type": "execute_result"
    }
   ],
   "source": [
    "public_time"
   ]
  },
  {
   "cell_type": "code",
   "execution_count": 8,
   "id": "518bc822",
   "metadata": {},
   "outputs": [
    {
     "data": {
      "text/plain": [
       "0.002010541945108639"
      ]
     },
     "execution_count": 8,
     "metadata": {},
     "output_type": "execute_result"
    }
   ],
   "source": [
    "single_forward_time"
   ]
  },
  {
   "cell_type": "code",
   "execution_count": 9,
   "id": "c444c007",
   "metadata": {},
   "outputs": [
    {
     "data": {
      "text/plain": [
       "37.637221242484856"
      ]
     },
     "execution_count": 9,
     "metadata": {},
     "output_type": "execute_result"
    }
   ],
   "source": [
    "public_time / single_forward_time"
   ]
  }
 ],
 "metadata": {
  "kernelspec": {
   "display_name": "eagle",
   "language": "python",
   "name": "python3"
  },
  "language_info": {
   "codemirror_mode": {
    "name": "ipython",
    "version": 3
   },
   "file_extension": ".py",
   "mimetype": "text/x-python",
   "name": "python",
   "nbconvert_exporter": "python",
   "pygments_lexer": "ipython3",
   "version": "3.9.21"
  }
 },
 "nbformat": 4,
 "nbformat_minor": 5
}
