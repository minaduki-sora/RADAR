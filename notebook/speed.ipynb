{
 "cells": [
  {
   "cell_type": "code",
   "execution_count": 2,
   "id": "fcdc4528",
   "metadata": {},
   "outputs": [
    {
     "name": "stdout",
     "output_type": "stream",
     "text": [
      "speed 41.84736954579986\n",
      "speed0 48.64256414148768\n",
      "ratio 0.8603035280804175\n"
     ]
    }
   ],
   "source": [
    "import json\n",
    "from transformers import AutoTokenizer\n",
    "import numpy as np\n",
    "\n",
    "tokenizer=AutoTokenizer.from_pretrained(\"/home/majunjie/code/weights/hf/Meta-Llama-3.1-8B-Instruct/\")\n",
    "# jsonl_file = \"/home/majunjie/code/EAGLE/output/mt-bench/llama3.1.jsonl\"\n",
    "# jsonl_file = \"/home/majunjie/code/EAGLE/output/mt-bench/llama3.1-d7.jsonl\"\n",
    "# jsonl_file_base = \"/home/majunjie/code/EAGLE/output/mt-bench/llama3.1-vanilla.jsonl\"\n",
    "jsonl_file = \"../output/shareGPT/llama3.1/t1d7/hawkeye-speedtest.jsonl\"\n",
    "jsonl_file_base = \"../output/shareGPT/llama3.1/t1d7/eagle3-speedtest.jsonl\"\n",
    "data = []\n",
    "with open(jsonl_file, 'r', encoding='utf-8') as file:\n",
    "    for line in file:\n",
    "        json_obj = json.loads(line)\n",
    "        data.append(json_obj)\n",
    "\n",
    "\n",
    "\n",
    "speeds=[]\n",
    "for datapoint in data:\n",
    "    qid=datapoint[\"question_id\"]\n",
    "    answer=datapoint[\"choices\"][0]['turns']\n",
    "    tokens=sum(datapoint[\"choices\"][0]['new_tokens'])\n",
    "    times = sum(datapoint[\"choices\"][0]['wall_time'])\n",
    "    speeds.append(tokens/times)\n",
    "\n",
    "\n",
    "data = []\n",
    "with open(jsonl_file_base, 'r', encoding='utf-8') as file:\n",
    "    for line in file:\n",
    "        json_obj = json.loads(line)\n",
    "        data.append(json_obj)\n",
    "\n",
    "\n",
    "total_time=0\n",
    "total_token=0\n",
    "speeds0=[]\n",
    "for datapoint in data:\n",
    "    qid=datapoint[\"question_id\"]\n",
    "    answer=datapoint[\"choices\"][0]['turns']\n",
    "    tokens = 0\n",
    "    for i in answer:\n",
    "        tokens += (len(tokenizer(i).input_ids) - 1)\n",
    "    times = sum(datapoint[\"choices\"][0]['wall_time'])\n",
    "    speeds0.append(tokens / times)\n",
    "    total_time+=times\n",
    "    total_token+=tokens\n",
    "\n",
    "\n",
    "\n",
    "print('speed',np.array(speeds).mean())\n",
    "print('speed0',np.array(speeds0).mean())\n",
    "print(\"ratio\",np.array(speeds).mean()/np.array(speeds0).mean())\n",
    "\n",
    "\n"
   ]
  }
 ],
 "metadata": {
  "kernelspec": {
   "display_name": "eagle",
   "language": "python",
   "name": "python3"
  },
  "language_info": {
   "codemirror_mode": {
    "name": "ipython",
    "version": 3
   },
   "file_extension": ".py",
   "mimetype": "text/x-python",
   "name": "python",
   "nbconvert_exporter": "python",
   "pygments_lexer": "ipython3",
   "version": "3.9.21"
  }
 },
 "nbformat": 4,
 "nbformat_minor": 5
}
