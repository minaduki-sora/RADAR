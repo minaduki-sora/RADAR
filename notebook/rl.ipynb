{
 "cells": [
  {
   "cell_type": "markdown",
   "id": "c687a3bf",
   "metadata": {},
   "source": [
    "## 策略模型定义"
   ]
  },
  {
   "cell_type": "code",
   "execution_count": null,
   "id": "7db1618f",
   "metadata": {},
   "outputs": [],
   "source": [
    "import torch\n",
    "import torch.nn as nn\n",
    "\n",
    "class LSTMPolicyNet(nn.Module):\n",
    "    def __init__(self, state_dim=10, lstm_hidden=128, mlp_hidden=64, num_layers=1, dropout=0.1):\n",
    "        super().__init__()\n",
    "        self.state_dim = state_dim\n",
    "        self.lstm_hidden = lstm_hidden\n",
    "        self.num_layers = num_layers\n",
    "\n",
    "        self.lstm = nn.LSTM(\n",
    "            input_size=state_dim,\n",
    "            hidden_size=lstm_hidden,\n",
    "            num_layers=num_layers,\n",
    "            batch_first=True,\n",
    "            dropout=dropout if num_layers > 1 else 0\n",
    "        )\n",
    "        self.mlp = nn.Sequential(\n",
    "            nn.Linear(lstm_hidden, mlp_hidden),\n",
    "            nn.ReLU(),\n",
    "            nn.Linear(mlp_hidden, 2)  # 输出2个动作的logits\n",
    "        )\n",
    "\n",
    "    def forward(self, state_seq, hidden=None):\n",
    "        \"\"\"\n",
    "        state_seq: [B, T, state_dim]  # batch, seq_len, state_dim\n",
    "        hidden: (h0, c0) tuple for LSTM initial state (optional)\n",
    "        Returns:\n",
    "            action_logits: [B, T, 2]  # 每个时刻的动作分数\n",
    "        \"\"\"\n",
    "        lstm_out, hidden = self.lstm(state_seq, hidden)  # lstm_out: [B, T, lstm_hidden]\n",
    "        logits = self.mlp(lstm_out)                      # logits: [B, T, 2]\n",
    "        return logits, hidden\n",
    "\n",
    "    def act(self, state_seq, hidden=None, deterministic=False):\n",
    "        \"\"\"\n",
    "        用于采样动作\n",
    "        state_seq: [B, T, state_dim]\n",
    "        Returns:\n",
    "            actions: [B, T]\n",
    "        \"\"\"\n",
    "        logits, hidden = self.forward(state_seq, hidden)\n",
    "        probs = torch.softmax(logits, dim=-1)\n",
    "        if deterministic:\n",
    "            actions = torch.argmax(probs, dim=-1)\n",
    "        else:\n",
    "            dist = torch.distributions.Categorical(probs)\n",
    "            actions = dist.sample()\n",
    "        return actions, probs, hidden\n",
    "\n",
    "    def reset_hidden(self, batch_size):\n",
    "        \"\"\"\n",
    "        重置LSTM的隐藏状态\n",
    "        batch_size: int\n",
    "        Returns:\n",
    "            hidden: (h0, c0) tuple for LSTM initial state\n",
    "        \"\"\"\n",
    "        h0 = torch.zeros(self.num_layers, batch_size, self.lstm_hidden).to(next(self.parameters()).device)\n",
    "        c0 = torch.zeros(self.num_layers, batch_size, self.lstm_hidden).to(next(self.parameters()).device)\n",
    "        return (h0, c0)"
   ]
  },
  {
   "cell_type": "markdown",
   "id": "8a156f20",
   "metadata": {},
   "source": [
    "## 加载ReplayDataset"
   ]
  },
  {
   "cell_type": "code",
   "execution_count": 1,
   "id": "5bebabbd",
   "metadata": {},
   "outputs": [
    {
     "name": "stderr",
     "output_type": "stream",
     "text": [
      "/home/mio/anaconda3/envs/eagle/lib/python3.9/site-packages/tqdm/auto.py:21: TqdmWarning: IProgress not found. Please update jupyter and ipywidgets. See https://ipywidgets.readthedocs.io/en/stable/user_install.html\n",
      "  from .autonotebook import tqdm as notebook_tqdm\n"
     ]
    }
   ],
   "source": [
    "import datasets\n",
    "\n",
    "ReplayDataset = datasets.load_from_disk(\"../data/scores_rb/shareGPT-llama3-d7-topk10-t1\")"
   ]
  },
  {
   "cell_type": "code",
   "execution_count": 2,
   "id": "c1f28fb3",
   "metadata": {},
   "outputs": [
    {
     "data": {
      "text/plain": [
       "torch.Tensor"
      ]
     },
     "execution_count": 2,
     "metadata": {},
     "output_type": "execute_result"
    }
   ],
   "source": [
    "ReplayDataset.set_format(\"torch\")\n",
    "type(ReplayDataset[\"train\"][0][\"action_7\"][\"stop\"])"
   ]
  },
  {
   "cell_type": "code",
   "execution_count": 2,
   "id": "b58bc788",
   "metadata": {},
   "outputs": [
    {
     "data": {
      "text/plain": [
       "[0.0061492919921875,\n",
       " 0.08392333984375,\n",
       " 0.03704833984375,\n",
       " 0.1397705078125,\n",
       " 0.07598876953125,\n",
       " 0.007415771484375,\n",
       " 0.021484375,\n",
       " 0.2437744140625,\n",
       " 0.3843262195587158]"
      ]
     },
     "execution_count": 2,
     "metadata": {},
     "output_type": "execute_result"
    }
   ],
   "source": [
    "ReplayDataset[\"train\"][0][\"action_7\"][\"stop\"]"
   ]
  },
  {
   "cell_type": "markdown",
   "id": "4827be77",
   "metadata": {},
   "source": [
    "## 奖励函数"
   ]
  },
  {
   "cell_type": "code",
   "execution_count": null,
   "id": "9ff4df7a",
   "metadata": {},
   "outputs": [],
   "source": [
    "import numpy as np\n",
    "# 1. 奖励函数（期望reward）\n",
    "def reward_fn(action_idx, stop_probs, lam1=1.0, lam2=1.0):\n",
    "    n = action_idx\n",
    "    probs = stop_probs[1:]\n",
    "    probs[0] += stop_probs[0] #0和1的stop概率合并\n",
    "    l_arr = np.arange(len(probs))\n",
    "    reward_arr = lam1 * l_arr - lam2 * np.abs(n - l_arr)\n",
    "    expected_reward = np.sum(probs * reward_arr)\n",
    "    return expected_reward"
   ]
  },
  {
   "cell_type": "code",
   "execution_count": null,
   "id": "e09870f9",
   "metadata": {},
   "outputs": [],
   "source": [
    "from torch.utils.data import Dataset\n",
    "# 2. 轨迹数据集预处理\n",
    "def decode_action_seq(action_idx, max_len=7):\n",
    "    # action_0: [0], action_1: [1,0], ..., action_7: [1,1,1,1,1,1,1]\n",
    "    if action_idx < max_len:\n",
    "        return [1] * action_idx + [0]\n",
    "    else:\n",
    "        return [1] * max_len\n",
    "\n",
    "def build_trajectories(dataset, max_len=7):\n",
    "    trajectories = []\n",
    "    for sample in dataset:\n",
    "        for i in range(max_len + 1):  # action_0~action_7\n",
    "            action_seq = decode_action_seq(i, max_len)\n",
    "            seq_len = len(action_seq)\n",
    "            # eagle_i_forward为状态，假设为一维/多维float\n",
    "            states = [sample[f\"eagle_{t+1}_forward\"] for t in range(seq_len)]\n",
    "            stop_probs = sample[f\"action_{i}\"][\"stop\"]  # shape: [seq_len+1]\n",
    "            reward = reward_fn(i, stop_probs)\n",
    "            trajectories.append({\n",
    "                \"states\": states,\n",
    "                \"actions\": action_seq,\n",
    "                \"reward\": reward\n",
    "            })\n",
    "    return trajectories\n",
    "\n",
    "# 3. PyTorch Dataset和collate函数\n",
    "class TrajectoryDataset(Dataset):\n",
    "    def __init__(self, trajectories):\n",
    "        self.trajectories = trajectories\n",
    "\n",
    "    def __len__(self):\n",
    "        return len(self.trajectories)\n",
    "\n",
    "    def __getitem__(self, idx):\n",
    "        traj = self.trajectories[idx]\n",
    "        return {\n",
    "            \"states\": torch.tensor(traj[\"states\"], dtype=torch.float32),\n",
    "            \"actions\": torch.tensor(traj[\"actions\"], dtype=torch.long),\n",
    "            \"reward\": torch.tensor(traj[\"reward\"], dtype=torch.float32),\n",
    "        }\n",
    "\n",
    "def collate_fn(batch):\n",
    "    states = [x[\"states\"] for x in batch]\n",
    "    actions = [x[\"actions\"] for x in batch]\n",
    "    rewards = torch.stack([x[\"reward\"] for x in batch])\n",
    "    max_len = max(s.shape[0] for s in states)\n",
    "    state_dim = states[0].shape[1] if states[0].dim() > 1 else 1\n",
    "    batch_size = len(states)\n",
    "    padded_states = torch.zeros((batch_size, max_len, state_dim), dtype=torch.float32)\n",
    "    padded_actions = torch.zeros((batch_size, max_len), dtype=torch.long)\n",
    "    mask = torch.zeros((batch_size, max_len), dtype=torch.bool)\n",
    "    for i in range(batch_size):\n",
    "        T = states[i].shape[0]\n",
    "        if state_dim > 1:\n",
    "            padded_states[i, :T, :] = states[i]\n",
    "        else:\n",
    "            padded_states[i, :T, 0] = states[i].squeeze(-1)\n",
    "        padded_actions[i, :T] = actions[i]\n",
    "        mask[i, :T] = 1\n",
    "    return padded_states, padded_actions, rewards, mask\n"
   ]
  },
  {
   "cell_type": "markdown",
   "id": "4dc5632d",
   "metadata": {},
   "source": [
    "## 训练代码"
   ]
  },
  {
   "cell_type": "code",
   "execution_count": null,
   "id": "df790829",
   "metadata": {},
   "outputs": [],
   "source": [
    "import torch\n",
    "import torch.nn as nn\n",
    "from torch.utils.data import DataLoader\n",
    "\n",
    "\n",
    "train_set = ReplayDataset[\"train\"]\n",
    "train_trajectories = build_trajectories(train_set)\n",
    "train_dataset = TrajectoryDataset(train_trajectories)\n",
    "train_loader = DataLoader(train_dataset, batch_size=64, shuffle=True, collate_fn=collate_fn)\n",
    "\n",
    "state_dim = train_trajectories[0][\"states\"][0].__len__()\n",
    "model = LSTMPolicyNet(state_dim=state_dim)\n",
    "optimizer = torch.optim.Adam(model.parameters(), lr=1e-3)\n",
    "\n",
    "for epoch in range(10):\n",
    "    total_loss = 0\n",
    "    for states, actions, rewards, mask in train_loader:\n",
    "        logits = model(states)\n",
    "        log_probs = nn.functional.log_softmax(logits, dim=-1)\n",
    "        action_log_probs = log_probs.gather(-1, actions.unsqueeze(-1)).squeeze(-1)  # [batch, seq]\n",
    "        masked_action_log_probs = action_log_probs * mask  # 只累计真实步数部分\n",
    "        # sum over trajectory, then REINFORCE loss\n",
    "        loss = -(masked_action_log_probs.sum(dim=1) * rewards).mean()\n",
    "        optimizer.zero_grad()\n",
    "        loss.backward()\n",
    "        optimizer.step()\n",
    "        total_loss += loss.item()\n",
    "    print(f\"Epoch {epoch+1}, Loss: {total_loss:.4f}\")\n",
    "\n",
    "torch.save(model.state_dict(), \"lstm_policy_expected_reward.pt\")"
   ]
  }
 ],
 "metadata": {
  "kernelspec": {
   "display_name": "eagle",
   "language": "python",
   "name": "python3"
  },
  "language_info": {
   "codemirror_mode": {
    "name": "ipython",
    "version": 3
   },
   "file_extension": ".py",
   "mimetype": "text/x-python",
   "name": "python",
   "nbconvert_exporter": "python",
   "pygments_lexer": "ipython3",
   "version": "3.9.21"
  }
 },
 "nbformat": 4,
 "nbformat_minor": 5
}
