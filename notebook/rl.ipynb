{
 "cells": [
  {
   "cell_type": "markdown",
   "id": "c687a3bf",
   "metadata": {},
   "source": [
    "## 策略模型定义"
   ]
  },
  {
   "cell_type": "code",
   "execution_count": null,
   "id": "7db1618f",
   "metadata": {},
   "outputs": [],
   "source": [
    "import torch\n",
    "import torch.nn as nn\n",
    "\n",
    "class LSTMPolicyNet(nn.Module):\n",
    "    def __init__(self, state_dim=10, lstm_hidden=128, mlp_hidden=64, num_layers=1, dropout=0.1):\n",
    "        super().__init__()\n",
    "        self.state_dim = state_dim\n",
    "        self.lstm_hidden = lstm_hidden\n",
    "        self.num_layers = num_layers\n",
    "\n",
    "        self.lstm = nn.LSTM(\n",
    "            input_size=state_dim,\n",
    "            hidden_size=lstm_hidden,\n",
    "            num_layers=num_layers,\n",
    "            batch_first=True,\n",
    "            dropout=dropout if num_layers > 1 else 0\n",
    "        )\n",
    "        self.mlp = nn.Sequential(\n",
    "            nn.Linear(lstm_hidden, mlp_hidden),\n",
    "            nn.ReLU(),\n",
    "            nn.Linear(mlp_hidden, 2)  # 输出2个动作的logits\n",
    "        )\n",
    "\n",
    "    def forward(self, state_seq, hidden=None):\n",
    "        \"\"\"\n",
    "        state_seq: [B, T, state_dim]  # batch, seq_len, state_dim\n",
    "        hidden: (h0, c0) tuple for LSTM initial state (optional)\n",
    "        Returns:\n",
    "            action_logits: [B, T, 2]  # 每个时刻的动作分数\n",
    "        \"\"\"\n",
    "        lstm_out, hidden = self.lstm(state_seq, hidden)  # lstm_out: [B, T, lstm_hidden]\n",
    "        logits = self.mlp(lstm_out)                      # logits: [B, T, 2]\n",
    "        return logits, hidden\n",
    "\n",
    "    def act(self, state_seq, hidden=None, deterministic=False):\n",
    "        \"\"\"\n",
    "        用于采样动作\n",
    "        state_seq: [B, T, state_dim]\n",
    "        Returns:\n",
    "            actions: [B, T]\n",
    "        \"\"\"\n",
    "        logits, hidden = self.forward(state_seq, hidden)\n",
    "        probs = torch.softmax(logits, dim=-1)\n",
    "        if deterministic:\n",
    "            actions = torch.argmax(probs, dim=-1)\n",
    "        else:\n",
    "            dist = torch.distributions.Categorical(probs)\n",
    "            actions = dist.sample()\n",
    "        return actions, probs, hidden\n",
    "\n",
    "    def reset_hidden(self, batch_size):\n",
    "        \"\"\"\n",
    "        重置LSTM的隐藏状态\n",
    "        batch_size: int\n",
    "        Returns:\n",
    "            hidden: (h0, c0) tuple for LSTM initial state\n",
    "        \"\"\"\n",
    "        h0 = torch.zeros(self.num_layers, batch_size, self.lstm_hidden).to(next(self.parameters()).device)\n",
    "        c0 = torch.zeros(self.num_layers, batch_size, self.lstm_hidden).to(next(self.parameters()).device)\n",
    "        return (h0, c0)"
   ]
  },
  {
   "cell_type": "markdown",
   "id": "8a156f20",
   "metadata": {},
   "source": [
    "## 加载ReplayDataset"
   ]
  },
  {
   "cell_type": "code",
   "execution_count": 1,
   "id": "5bebabbd",
   "metadata": {},
   "outputs": [],
   "source": [
    "import datasets\n",
    "\n",
    "ReplayDataset = datasets.load_from_disk(\"../data/scores_rb/shareGPT-llama3-d7-topk10-t1\")"
   ]
  },
  {
   "cell_type": "code",
   "execution_count": 2,
   "id": "c1f28fb3",
   "metadata": {},
   "outputs": [
    {
     "data": {
      "text/plain": [
       "torch.Tensor"
      ]
     },
     "execution_count": 2,
     "metadata": {},
     "output_type": "execute_result"
    }
   ],
   "source": [
    "ReplayDataset.set_format(\"torch\")\n",
    "type(ReplayDataset[\"train\"][0][\"action_7\"][\"stop\"])"
   ]
  },
  {
   "cell_type": "code",
   "execution_count": null,
   "id": "b58bc788",
   "metadata": {},
   "outputs": [
    {
     "data": {
      "text/plain": [
       "DatasetDict({\n",
       "    train: Dataset({\n",
       "        features: ['eagle_1_forward', 'eagle_2_forward', 'eagle_3_forward', 'eagle_4_forward', 'eagle_5_forward', 'eagle_6_forward', 'eagle_7_forward', 'eagle_8_forward', 'action_0', 'action_1', 'action_2', 'action_3', 'action_4', 'action_5', 'action_6', 'action_7'],\n",
       "        num_rows: 150726\n",
       "    })\n",
       "    test: Dataset({\n",
       "        features: ['eagle_1_forward', 'eagle_2_forward', 'eagle_3_forward', 'eagle_4_forward', 'eagle_5_forward', 'eagle_6_forward', 'eagle_7_forward', 'eagle_8_forward', 'action_0', 'action_1', 'action_2', 'action_3', 'action_4', 'action_5', 'action_6', 'action_7'],\n",
       "        num_rows: 37682\n",
       "    })\n",
       "})"
      ]
     },
     "execution_count": 4,
     "metadata": {},
     "output_type": "execute_result"
    }
   ],
   "source": [
    "ReplayDataset[\"train\"][0][\"action_7\"][\"stop\"]"
   ]
  },
  {
   "cell_type": "code",
   "execution_count": null,
   "id": "e4c5526a",
   "metadata": {},
   "outputs": [],
   "source": [
    "def decode_action_seq(action_idx, max_len=7):\n",
    "    # action_0 对应 [0], action_1 对应 [1, 0], ..., action_7 对应 [1,1,1,1,1,1,1]\n",
    "    if action_idx < max_len:\n",
    "        return [1] * action_idx + [0]\n",
    "    else:\n",
    "        return [1] * max_len\n",
    "\n",
    "def build_trajectories(dataset, reward_fun, max_len=7):\n",
    "    \"\"\"\n",
    "    将ReplayDataset的单条样本展开为多条轨迹，返回[{states, actions, reward}]\n",
    "    \"\"\"\n",
    "    trajectories = []\n",
    "    for sample in dataset:\n",
    "        for i in range(max_len + 1):  # action_0 ~ action_7\n",
    "            # 当前轨迹动作序列\n",
    "            action_seq = decode_action_seq(i, max_len)\n",
    "            seq_len = len(action_seq)\n",
    "            # 状态序列\n",
    "            states = []\n",
    "            for t in range(seq_len):\n",
    "                state = sample[f\"eagle_{t+1}_forward\"]\n",
    "                states.append(state)\n",
    "            # 奖励\n",
    "            stop_probs = sample[f\"action_{i}\"][\"stop\"]  # 长度为seq_len+1的概率分布\n",
    "            reward = reward_fun(i, stop_probs)\n",
    "            trajectories.append({\n",
    "                'states': states,\n",
    "                'actions': action_seq,\n",
    "                'reward': reward\n",
    "            })\n",
    "    return trajectories"
   ]
  },
  {
   "cell_type": "markdown",
   "id": "4827be77",
   "metadata": {},
   "source": [
    "## 奖励函数"
   ]
  },
  {
   "cell_type": "code",
   "execution_count": null,
   "id": "9ff4df7a",
   "metadata": {},
   "outputs": [],
   "source": [
    "def reward_fun():\n",
    "    pass"
   ]
  },
  {
   "cell_type": "code",
   "execution_count": null,
   "id": "e09870f9",
   "metadata": {},
   "outputs": [],
   "source": [
    "train_set = ReplayDataset[\"train\"]\n",
    "train_trajectories = build_trajectories(train_set, reward_fun)"
   ]
  },
  {
   "cell_type": "markdown",
   "id": "4dc5632d",
   "metadata": {},
   "source": [
    "## 训练代码"
   ]
  },
  {
   "cell_type": "code",
   "execution_count": null,
   "id": "df790829",
   "metadata": {},
   "outputs": [],
   "source": [
    "import torch\n",
    "import torch.nn as nn\n",
    "from torch.utils.data import DataLoader\n",
    "\n",
    "class TrajectoryDataset(torch.utils.data.Dataset):\n",
    "    def __init__(self, trajectories):\n",
    "        self.trajectories = trajectories\n",
    "\n",
    "    def __len__(self):\n",
    "        return len(self.trajectories)\n",
    "\n",
    "    def __getitem__(self, idx):\n",
    "        traj = self.trajectories[idx]\n",
    "        # 转为float32方便后续处理\n",
    "        return {\n",
    "            \"states\": torch.tensor(traj[\"states\"], dtype=torch.float32),\n",
    "            \"actions\": torch.tensor(traj[\"actions\"], dtype=torch.long),\n",
    "            \"reward\": torch.tensor(traj[\"reward\"], dtype=torch.float32),\n",
    "        }\n",
    "\n",
    "def collate_fn(batch):\n",
    "    # batch: list of dict\n",
    "    states = [x[\"states\"] for x in batch]\n",
    "    actions = [x[\"actions\"] for x in batch]\n",
    "    rewards = torch.stack([x[\"reward\"] for x in batch])\n",
    "    max_len = max([s.shape[0] for s in states])\n",
    "    state_dim = states[0].shape[1]\n",
    "    batch_size = len(states)\n",
    "    padded_states = torch.zeros((batch_size, max_len, state_dim), dtype=torch.float32)\n",
    "    padded_actions = torch.zeros((batch_size, max_len), dtype=torch.long)\n",
    "    for i in range(batch_size):\n",
    "        T = states[i].shape[0]\n",
    "        padded_states[i, :T, :] = states[i]\n",
    "        padded_actions[i, :T] = actions[i]\n",
    "    return padded_states, padded_actions, rewards\n",
    "\n",
    "\n",
    "\n",
    "train_dataset = TrajectoryDataset(train_trajectories)\n",
    "train_loader = DataLoader(train_dataset, batch_size=64, shuffle=True, collate_fn=collate_fn)\n",
    "\n",
    "# LSTM策略网络\n",
    "state_dim = train_trajectories[0][\"states\"][0].__len__()\n",
    "action_dim = 2\n",
    "model = LSTMPolicyNet(state_dim=state_dim, action_dim=action_dim)\n",
    "optimizer = torch.optim.Adam(model.parameters(), lr=1e-3)\n",
    "\n",
    "for epoch in range(20):\n",
    "    total_loss, total_reward = 0, 0\n",
    "    for states, actions, rewards in train_loader:\n",
    "        logits, _ = model(states)\n",
    "        log_probs = nn.functional.log_softmax(logits, dim=-1)\n",
    "        action_log_probs = log_probs.gather(-1, actions.unsqueeze(-1)).squeeze(-1)\n",
    "        # 这里只使用每条轨迹的总reward进行REINFORCE\n",
    "        loss = -(action_log_probs.sum(dim=1) * rewards).mean()\n",
    "        optimizer.zero_grad()\n",
    "        loss.backward()\n",
    "        optimizer.step()\n",
    "        total_loss += loss.item()\n",
    "        total_reward += rewards.sum().item()\n",
    "    print(f\"Epoch {epoch+1}: Loss={total_loss:.4f}, AvgReward={total_reward/len(train_dataset):.4f}\")\n",
    "\n",
    "# 保存模型\n",
    "torch.save(model.state_dict(), \"lstm_policy.pt\")"
   ]
  }
 ],
 "metadata": {
  "kernelspec": {
   "display_name": "eagle",
   "language": "python",
   "name": "python3"
  },
  "language_info": {
   "codemirror_mode": {
    "name": "ipython",
    "version": 3
   },
   "file_extension": ".py",
   "mimetype": "text/x-python",
   "name": "python",
   "nbconvert_exporter": "python",
   "pygments_lexer": "ipython3",
   "version": "3.9.21"
  }
 },
 "nbformat": 4,
 "nbformat_minor": 5
}
